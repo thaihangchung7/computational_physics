{
 "cells": [
  {
   "cell_type": "code",
   "execution_count": 10,
   "id": "fb938f7f-ab0b-40dd-9b59-f4dbcc79a911",
   "metadata": {},
   "outputs": [],
   "source": [
    "import random\n",
    "import matplotlib.pyplot as plt\n",
    "import numpy as np\n",
    "from numba import njit, prange"
   ]
  },
  {
   "cell_type": "code",
   "execution_count": 28,
   "id": "dc8a331c-546e-458b-ba35-38d912d4e6aa",
   "metadata": {},
   "outputs": [],
   "source": [
    "sample = 5000 #number of samples per experiment\n",
    "\n",
    "sarray = []\n",
    "steparray= []\n",
    "samplearray= []\n",
    "s_div_arr = []\n",
    "\n",
    "plt.rcParams[\"figure.figsize\"] = (20,10)\n",
    "def nprandomwalk(sample):\n",
    "    \n",
    "    for steps in range(10,100,10):\n",
    "        s=0\n",
    "        for t in range(0,sample):\n",
    "            #samplearray.append(t)\n",
    "            distance = 0\n",
    "            \n",
    "            for x in range(0,steps):\n",
    "                \n",
    "                s_1 = np.random.random()\n",
    "\n",
    "                if s_1 >= 0.5:\n",
    "\n",
    "                    distance = distance+1\n",
    "                    #s = s + distance**2\n",
    "                    #sarray.append(s)\n",
    "                    #steparray.append(steps)\n",
    "\n",
    "                else:\n",
    "                    \n",
    "                    distance = distance-1\n",
    "                    #s = s + distance**2\n",
    "                    #sarray.append(s)\n",
    "                    #steparray.append(steps)\n",
    "                #print(distance)\n",
    "            s = s + np.square(distance)\n",
    "    \n",
    "        sarray.append(s)\n",
    "        steparray.append(steps)\n",
    "        \n",
    "        #print(sarray)\n",
    "    s_div_samp = [x / sample for x in sarray]\n",
    "    s_div_arr.append(s_div_samp)\n",
    "    print(len(steparray))\n",
    "    return steparray, s_div_arr"
   ]
  },
  {
   "cell_type": "code",
   "execution_count": 29,
   "id": "5bd3f4e4-ae16-44a5-a979-ec8ab27fe9d6",
   "metadata": {},
   "outputs": [
    {
     "name": "stdout",
     "output_type": "stream",
     "text": [
      "9\n"
     ]
    },
    {
     "data": {
      "text/plain": [
       "<matplotlib.collections.PathCollection at 0x7fab7ad4b9d0>"
      ]
     },
     "execution_count": 29,
     "metadata": {},
     "output_type": "execute_result"
    },
    {
     "data": {
      "image/png": "[encoded data removed]",
      "text/plain": [
       "<Figure size 1440x720 with 1 Axes>"
      ]
     },
     "metadata": {
      "needs_background": "light"
     },
     "output_type": "display_data"
    }
   ],
   "source": [
    "nprandomwalk(sample)\n",
    "plt.title(\"Increasing Variance per Number of Steps\", fontsize=20)\n",
    "plt.xlabel(\"number of steps\", fontsize=20)\n",
    "plt.ylabel(\"$< X^{2} >$\", fontsize=20)\n",
    "plt.scatter(steparray,s_div_arr)"
   ]
  },
  {
   "cell_type": "code",
   "execution_count": 20,
   "id": "4eea9573-d31f-4382-8776-3b4e4d1c3b3f",
   "metadata": {},
   "outputs": [],
   "source": [
    "def randomwalk(sample):\n",
    "    \n",
    "    for steps in range(10,100,10):\n",
    "        s=0\n",
    "        for t in range(0,sample):\n",
    "            #samplearray.append(t)\n",
    "            distance = 0\n",
    "            \n",
    "            for x in range(0,steps):\n",
    "                \n",
    "                s_1 = (random.random())\n",
    "\n",
    "                if s_1 >= 0.5:\n",
    "\n",
    "                    distance = distance+1\n",
    "                    #s = s + distance**2\n",
    "                    #sarray.append(s)\n",
    "                    #steparray.append(steps)\n",
    "\n",
    "                else:\n",
    "                    \n",
    "                    distance = distance-1\n",
    "                    #s = s + distance**2\n",
    "                    #sarray.append(s)\n",
    "                    #steparray.append(steps)\n",
    "                #print(distance)\n",
    "            s = s + distance**2\n",
    "    \n",
    "        sarray.append(s)\n",
    "        steparray.append(steps)\n",
    "        \n",
    "        #print(sarray)\n",
    "    s_div_samp = [x / sample for x in sarray]\n",
    "    s_div_arr.append(s_div_samp)\n",
    "    return steparray, s_div_arr"
   ]
  },
  {
   "cell_type": "code",
   "execution_count": 21,
   "id": "14364624-0d98-4af4-8823-43348f572fba",
   "metadata": {},
   "outputs": [
    {
     "name": "stdout",
     "output_type": "stream",
     "text": [
      "880 ms ± 5.07 ms per loop (mean ± std. dev. of 7 runs, 1 loop each)\n"
     ]
    }
   ],
   "source": [
    "%timeit nprandomwalk(sample)"
   ]
  },
  {
   "cell_type": "code",
   "execution_count": 19,
   "id": "c3f6c2c9-6764-4d56-8ca8-d971f5c99ac1",
   "metadata": {},
   "outputs": [
    {
     "name": "stdout",
     "output_type": "stream",
     "text": [
      "287 ms ± 4.59 ms per loop (mean ± std. dev. of 7 runs, 1 loop each)\n"
     ]
    }
   ],
   "source": [
    "%timeit randomwalk(sample)"
   ]
  },
  {
   "cell_type": "code",
   "execution_count": 36,
   "id": "fdb329cb-8dca-4475-8c0c-196cc85d5f82",
   "metadata": {
    "tags": []
   },
   "outputs": [],
   "source": [
    "samplesize = 5000\n",
    "experiments=100\n",
    "\n",
    "@njit\n",
    "def numpywalk(samplesize):\n",
    "    sample_array=np.empty((samplesize,experiments))\n",
    "    \n",
    "    step=0\n",
    "    for exp in prange(0,experiments,10):\n",
    "        t = np.arange(0,samplesize,1)\n",
    "        print(t)\n",
    "        #print('exp= ',exp)\n",
    "        sample_array[:,0] = t\n",
    "        \n",
    "        \n",
    "    distance = 0  \n",
    "    \n",
    "    step_array = np.empty_like(sample_array[:,0])\n",
    "    for trials in prange(0,len(sample_array[:,0])):\n",
    "        #print(trials)\n",
    "        roll = random.random()\n",
    "        \n",
    "        if roll >= 0.5:\n",
    "            distance = distance + 1\n",
    "            \n",
    "        else:\n",
    "            distance = distance - 1\n",
    "        \"\"\"\n",
    "        print(#roll,\"\\n\",\n",
    "              \"trial number:\",trials,\"\\n\",\n",
    "              \"distance\", distance)\n",
    "        \"\"\"\n",
    "        step = step + distance**2\n",
    "        step_array[trials] = step\n",
    "        #print(step,trials)\n",
    "    print(step_array.shape)\n",
    "    #print(step_array)\n",
    "    #print(\"sample array shape:\",sample_array.shape)\n",
    "    #print(sample_array[:100,0])\n",
    "    "
   ]
  },
  {
   "cell_type": "code",
   "execution_count": 37,
   "id": "cb7adec9-92ef-4746-82b3-0fe1f1db3df3",
   "metadata": {},
   "outputs": [
    {
     "name": "stdout",
     "output_type": "stream",
     "text": [
      "[   0    1    2 ... 4997 4998 4999]\n",
      "[   0    1    2 ... 4997 4998 4999]\n",
      "[   0    1    2 ... 4997 4998 4999]\n",
      "[   0    1    2 ... 4997 4998 4999]\n",
      "[   0    1    2 ... 4997 4998 4999]\n",
      "[   0    1    2 ... 4997 4998 4999]\n",
      "[   0    1    2 ... 4997 4998 4999]\n",
      "[   0    1    2 ... 4997 4998 4999]\n",
      "[   0    1    2 ... 4997 4998 4999]\n",
      "[   0    1    2 ... 4997 4998 4999]\n",
      "(5000,)\n"
     ]
    }
   ],
   "source": [
    "numpywalk(samplesize)\n"
   ]
  },
  {
   "cell_type": "code",
   "execution_count": null,
   "id": "ea93d3d4-94da-4e2f-b9b8-120100ca4996",
   "metadata": {},
   "outputs": [],
   "source": []
  }
 ],
 "metadata": {
  "kernelspec": {
   "display_name": "Python 3 (ipykernel)",
   "language": "python",
   "name": "python3"
  },
  "language_info": {
   "codemirror_mode": {
    "name": "ipython",
    "version": 3
   },
   "file_extension": ".py",
   "mimetype": "text/x-python",
   "name": "python",
   "nbconvert_exporter": "python",
   "pygments_lexer": "ipython3",
   "version": "3.9.5"
  }
 },
 "nbformat": 4,
 "nbformat_minor": 5
}
