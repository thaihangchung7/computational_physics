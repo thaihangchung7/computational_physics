{
 "cells": [
  {
   "cell_type": "code",
   "execution_count": 11,
   "id": "d57f0f97-0e89-4143-9d7b-c26b6ba3b630",
   "metadata": {},
   "outputs": [],
   "source": [
    "import numpy as np\n",
    "import matplotlib.pyplot as plt\n",
    "\n",
    "def euler1d(f,x0,t0,tmax,dt):\n",
    "    \"\"\"\n",
    "    Euler method for initial value problems.\n",
    "    time domain based on t0, tmax, dt\n",
    "    \"\"\"\n",
    "    t = np.linspace(0,100,100)\n",
    "    x = np.zeros_like(t)\n",
    "    x[0] = 0\n",
    "    for n in range(0,100):\n",
    "        x[n+1] = x[n] + 0.5 * f\n",
    "        \n",
    "    return t,x"
   ]
  },
  {
   "cell_type": "code",
   "execution_count": null,
   "id": "bf2425bf-54c1-4d23-b48f-d557c932bf1e",
   "metadata": {},
   "outputs": [],
   "source": []
  },
  {
   "cell_type": "code",
   "execution_count": null,
   "id": "32e3ecec-ffc4-4293-b051-b4ee8b5b9da1",
   "metadata": {},
   "outputs": [],
   "source": []
  },
  {
   "cell_type": "code",
   "execution_count": null,
   "id": "a089bd5b-df0f-49f0-ac87-37ff193a640a",
   "metadata": {},
   "outputs": [],
   "source": []
  }
 ],
 "metadata": {
  "kernelspec": {
   "display_name": "Python 3 (ipykernel)",
   "language": "python",
   "name": "python3"
  },
  "language_info": {
   "codemirror_mode": {
    "name": "ipython",
    "version": 3
   },
   "file_extension": ".py",
   "mimetype": "text/x-python",
   "name": "python",
   "nbconvert_exporter": "python",
   "pygments_lexer": "ipython3",
   "version": "3.9.5"
  }
 },
 "nbformat": 4,
 "nbformat_minor": 5
}
