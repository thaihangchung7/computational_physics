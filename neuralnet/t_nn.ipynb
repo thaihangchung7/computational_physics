{
 "cells": [
  {
   "cell_type": "code",
   "execution_count": 2,
   "id": "d58f855c-93e1-4127-9ce1-5f1a808fa829",
   "metadata": {},
   "outputs": [],
   "source": [
    "import numpy as np\n",
    "import matplotlib.pyplot as plt"
   ]
  },
  {
   "cell_type": "code",
   "execution_count": 11,
   "id": "b703b775-7b23-439e-816d-a17a19fe5389",
   "metadata": {},
   "outputs": [],
   "source": [
    "n_input = 4\n",
    "n_hidden = 3\n",
    "n_out = 2\n",
    "\n",
    "w_ij = np.zeros((n_input,n_hidden))\n",
    "dw_ij = np.zeros((n_hidden,n_out))\n",
    "\n",
    "\n",
    "w_jl = np.zeros((n_input,n_hidden))\n",
    "dw_jl = np.zeros((n_hidden,n_out))"
   ]
  },
  {
   "cell_type": "code",
   "execution_count": 15,
   "id": "d6a838b3-64bf-4230-a652-b1dc888b1b3c",
   "metadata": {},
   "outputs": [
    {
     "data": {
      "text/plain": [
       "array([[0. , 0. , 0. ],\n",
       "       [0. , 0.5, 0. ],\n",
       "       [0. , 0. , 0. ],\n",
       "       [0. , 0. , 0. ]])"
      ]
     },
     "execution_count": 15,
     "metadata": {},
     "output_type": "execute_result"
    }
   ],
   "source": [
    "w_ij[1,1] = 0.5\n",
    "w_ij"
   ]
  },
  {
   "cell_type": "code",
   "execution_count": null,
   "id": "8d68bfe4-64b6-4bb2-ad0e-fb89c566ee05",
   "metadata": {},
   "outputs": [],
   "source": []
  }
 ],
 "metadata": {
  "kernelspec": {
   "display_name": "Python 3 (ipykernel)",
   "language": "python",
   "name": "python3"
  },
  "language_info": {
   "codemirror_mode": {
    "name": "ipython",
    "version": 3
   },
   "file_extension": ".py",
   "mimetype": "text/x-python",
   "name": "python",
   "nbconvert_exporter": "python",
   "pygments_lexer": "ipython3",
   "version": "3.9.5"
  }
 },
 "nbformat": 4,
 "nbformat_minor": 5
}
