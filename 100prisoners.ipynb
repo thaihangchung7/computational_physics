{
 "cells": [
  {
   "cell_type": "code",
   "execution_count": 133,
   "id": "4640d6cb-4826-4232-826e-37585eef7a8d",
   "metadata": {},
   "outputs": [],
   "source": [
    "import numpy as np\n",
    "import math"
   ]
  },
  {
   "cell_type": "code",
   "execution_count": 165,
   "id": "377a68ed-374a-48c4-9786-52947ef92fec",
   "metadata": {},
   "outputs": [],
   "source": [
    "n_prisoners = 6\n",
    "\n",
    "\n",
    "def assign(n_prisoners):\n",
    "    \n",
    "    prisoners_array = np.arange(1,n_prisoners+1)\n",
    "    cards_array = np.arange(1,n_prisoners+1)\n",
    "    #np.random.shuffle(prisoners_array)\n",
    "    np.random.shuffle(cards_array)\n",
    "    \n",
    "    \n",
    "    shuffle = np.ndarray([2,n_prisoners],dtype=int)\n",
    "    \n",
    "    \n",
    "    #print(\"prisoners: \", prisoners_array)\n",
    "    #print(\"cards: \", cards_array)\n",
    "    #print(shuffle)\n",
    "    for i in range(0,n_prisoners):\n",
    "        #print(i)\n",
    "        shuffle[0,i] = prisoners_array[i]\n",
    "        shuffle[1,i] = cards_array[i]\n",
    "    return shuffle"
   ]
  },
  {
   "cell_type": "code",
   "execution_count": 166,
   "id": "16340d9f-16c8-46ac-ad7d-8c5002aa3304",
   "metadata": {},
   "outputs": [
    {
     "data": {
      "text/plain": [
       "array([[1, 2, 3, 4, 5, 6],\n",
       "       [2, 5, 4, 3, 6, 1]])"
      ]
     },
     "execution_count": 207,
     "metadata": {},
     "output_type": "execute_result"
    }
   ],
   "source": [
    "g_shuffle = assign(n_prisoners)\n",
    "g_shuffle"
   ]
  },
  {
   "cell_type": "code",
   "execution_count": 167,
   "id": "1a4af6fa-e20b-420b-9054-817b342fe256",
   "metadata": {},
   "outputs": [
    {
     "data": {
      "text/plain": [
       "6"
      ]
     },
     "execution_count": 208,
     "metadata": {},
     "output_type": "execute_result"
    }
   ],
   "source": [
    "assign(n_prisoners)[0].shape[0]"
   ]
  },
  {
   "cell_type": "code",
   "execution_count": 241,
   "id": "5f537be0-dfae-4760-9bb7-311758eaecfa",
   "metadata": {},
   "outputs": [],
   "source": [
    "def check(shuffle_array):\n",
    "    sucess = 0 \n",
    "    fail = 0\n",
    "    n_exp = 0\n",
    "    checks = 0 \n",
    "    l = math.ceil(n_prisoners/2)\n",
    "    check_array = np.empty(l)\n",
    "    print(\"l = \", l)\n",
    "    for i in range(0,assign(n_prisoners)[0].shape[0]):\n",
    "        while checks < l:\n",
    "            print(g_shuffle[1][checks])\n",
    "            check_array[checks]=g_shuffle[1][checks]\n",
    "            #print(check_array[j])\n",
    "            \n",
    "            if check_array[checks] == g_shuffle[0,i]:\n",
    "                success += 1\n",
    "                pass\n",
    "            else:\n",
    "                \n",
    "            #g_shuffle[0][i] = check_array[checks]\n",
    "            \n",
    "            \n",
    "            checks += 1\n",
    "            \n",
    "            \n",
    "            \n",
    "    print(\"g_shuffle = \", g_shuffle)\n",
    "    print(\"check array = \", check_array)\n",
    "        \n",
    "        "
   ]
  },
  {
   "cell_type": "code",
   "execution_count": 242,
   "id": "a4ba5448-079f-4958-91be-259ea1ea5e3d",
   "metadata": {},
   "outputs": [
    {
     "name": "stdout",
     "output_type": "stream",
     "text": [
      "l =  3\n",
      "2\n",
      "5\n",
      "4\n",
      "g_shuffle =  [[4 4 4 4 4 4]\n",
      " [2 5 4 3 6 1]]\n",
      "check array =  [2. 5. 4.]\n"
     ]
    }
   ],
   "source": [
    "check(g_shuffle)"
   ]
  },
  {
   "cell_type": "code",
   "execution_count": null,
   "id": "4bdb04d2-1f48-47e7-9f34-f0bea43311ca",
   "metadata": {},
   "outputs": [],
   "source": []
  },
  {
   "cell_type": "code",
   "execution_count": null,
   "id": "288d823f-6645-4551-a1c2-49edf771bada",
   "metadata": {},
   "outputs": [],
   "source": []
  }
 ],
 "metadata": {
  "kernelspec": {
   "display_name": "Python 3 (ipykernel)",
   "language": "python",
   "name": "python3"
  },
  "language_info": {
   "codemirror_mode": {
    "name": "ipython",
    "version": 3
   },
   "file_extension": ".py",
   "mimetype": "text/x-python",
   "name": "python",
   "nbconvert_exporter": "python",
   "pygments_lexer": "ipython3",
   "version": "3.9.5"
  }
 },
 "nbformat": 4,
 "nbformat_minor": 5
}
