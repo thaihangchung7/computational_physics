{
 "cells": [
  {
   "cell_type": "markdown",
   "id": "8091450f-7fb5-4aea-ae92-cc122e8e46d4",
   "metadata": {},
   "source": [
    "$$ x' = -\\frac{1}{3}x + \\sin(t) $$ where $$ x(0) = 1 $$"
   ]
  },
  {
   "cell_type": "code",
   "execution_count": 17,
   "id": "d57f0f97-0e89-4143-9d7b-c26b6ba3b630",
   "metadata": {},
   "outputs": [],
   "source": [
    "import numpy as np\n",
    "import matplotlib.pyplot as plt\n",
    "\n",
    "def euler1d(f,x0,t0,tmax,dt):\n",
    "    \"\"\"\n",
    "    Euler method for initial value problems.\n",
    "    time domain based on t0, tmax, dt\n",
    "    \"\"\"\n",
    "    t = np.linspace(0,100,100)\n",
    "    x = np.zeros_like(t)\n",
    "    x[0] = -1/3 * x0 + np.sin(t0)\n",
    "    for n in range(0,100):\n",
    "        x[n+1] = x[n] + dt *\n",
    "        \n",
    "    return t,x"
   ]
  },
  {
   "cell_type": "code",
   "execution_count": 18,
   "id": "bf2425bf-54c1-4d23-b48f-d557c932bf1e",
   "metadata": {},
   "outputs": [],
   "source": [
    "f = lambda t, x: -1/3 * x + np.sin(t)\n",
    "x0 = 1\n",
    "t0 = 0\n",
    "tmax = 100\n",
    "dt = 0.01"
   ]
  },
  {
   "cell_type": "code",
   "execution_count": 19,
   "id": "32e3ecec-ffc4-4293-b051-b4ee8b5b9da1",
   "metadata": {},
   "outputs": [
    {
     "ename": "TypeError",
     "evalue": "unsupported operand type(s) for *: 'float' and 'function'",
     "output_type": "error",
     "traceback": [
      "\u001b[0;31m---------------------------------------------------------------------------\u001b[0m",
      "\u001b[0;31mTypeError\u001b[0m                                 Traceback (most recent call last)",
      "Input \u001b[0;32mIn [19]\u001b[0m, in \u001b[0;36m<cell line: 1>\u001b[0;34m()\u001b[0m\n\u001b[0;32m----> 1\u001b[0m \u001b[43meuler1d\u001b[49m\u001b[43m(\u001b[49m\u001b[43mf\u001b[49m\u001b[43m,\u001b[49m\u001b[43mx0\u001b[49m\u001b[43m,\u001b[49m\u001b[43mt0\u001b[49m\u001b[43m,\u001b[49m\u001b[43mtmax\u001b[49m\u001b[43m,\u001b[49m\u001b[43mdt\u001b[49m\u001b[43m)\u001b[49m\n",
      "Input \u001b[0;32mIn [17]\u001b[0m, in \u001b[0;36meuler1d\u001b[0;34m(f, x0, t0, tmax, dt)\u001b[0m\n\u001b[1;32m     11\u001b[0m x[\u001b[38;5;241m0\u001b[39m] \u001b[38;5;241m=\u001b[39m \u001b[38;5;241m-\u001b[39m\u001b[38;5;241m1\u001b[39m\u001b[38;5;241m/\u001b[39m\u001b[38;5;241m3\u001b[39m \u001b[38;5;241m*\u001b[39m x0 \u001b[38;5;241m+\u001b[39m np\u001b[38;5;241m.\u001b[39msin(t0)\n\u001b[1;32m     12\u001b[0m \u001b[38;5;28;01mfor\u001b[39;00m n \u001b[38;5;129;01min\u001b[39;00m \u001b[38;5;28mrange\u001b[39m(\u001b[38;5;241m0\u001b[39m,\u001b[38;5;241m100\u001b[39m):\n\u001b[0;32m---> 13\u001b[0m     x[n\u001b[38;5;241m+\u001b[39m\u001b[38;5;241m1\u001b[39m] \u001b[38;5;241m=\u001b[39m x[n] \u001b[38;5;241m+\u001b[39m \u001b[43mdt\u001b[49m\u001b[43m \u001b[49m\u001b[38;5;241;43m*\u001b[39;49m\u001b[43m \u001b[49m\u001b[43mf\u001b[49m\n\u001b[1;32m     15\u001b[0m \u001b[38;5;28;01mreturn\u001b[39;00m t,x\n",
      "\u001b[0;31mTypeError\u001b[0m: unsupported operand type(s) for *: 'float' and 'function'"
     ]
    }
   ],
   "source": [
    "euler1d(f,x0,t0,tmax,dt)"
   ]
  },
  {
   "cell_type": "code",
   "execution_count": null,
   "id": "a089bd5b-df0f-49f0-ac87-37ff193a640a",
   "metadata": {},
   "outputs": [],
   "source": []
  }
 ],
 "metadata": {
  "kernelspec": {
   "display_name": "Python 3 (ipykernel)",
   "language": "python",
   "name": "python3"
  },
  "language_info": {
   "codemirror_mode": {
    "name": "ipython",
    "version": 3
   },
   "file_extension": ".py",
   "mimetype": "text/x-python",
   "name": "python",
   "nbconvert_exporter": "python",
   "pygments_lexer": "ipython3",
   "version": "3.9.5"
  }
 },
 "nbformat": 4,
 "nbformat_minor": 5
}
