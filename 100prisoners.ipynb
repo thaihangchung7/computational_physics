{
 "cells": [
  {
   "cell_type": "code",
   "execution_count": 1,
   "id": "4640d6cb-4826-4232-826e-37585eef7a8d",
   "metadata": {},
   "outputs": [],
   "source": [
    "import numpy as np\n",
    "import math "
   ]
  },
  {
   "cell_type": "code",
   "execution_count": 2,
   "id": "377a68ed-374a-48c4-9786-52947ef92fec",
   "metadata": {},
   "outputs": [],
   "source": [
    "n_prisoners = 6\n",
    "\n",
    "\n",
    "def assign(n_prisoners):\n",
    "    \n",
    "    prisoners_array = np.arange(1,n_prisoners+1)\n",
    "    cards_array = np.arange(1,n_prisoners+1)\n",
    "    #np.random.shuffle(prisoners_array)\n",
    "    np.random.shuffle(cards_array)\n",
    "    \n",
    "    \n",
    "    shuffle = np.ndarray([2,n_prisoners],dtype=int)\n",
    "    \n",
    "    \n",
    "    #print(\"prisoners: \", prisoners_array)\n",
    "    #print(\"cards: \", cards_array)\n",
    "    #print(shuffle)\n",
    "    for i in range(0,n_prisoners):\n",
    "        #print(i)\n",
    "        shuffle[0,i] = prisoners_array[i]\n",
    "        shuffle[1,i] = cards_array[i]\n",
    "    return shuffle"
   ]
  },
  {
   "cell_type": "code",
   "execution_count": 3,
   "id": "16340d9f-16c8-46ac-ad7d-8c5002aa3304",
   "metadata": {},
   "outputs": [
    {
     "data": {
      "text/plain": [
       "array([[1, 2, 3, 4, 5, 6],\n",
       "       [4, 1, 3, 6, 5, 2]])"
      ]
     },
     "execution_count": 3,
     "metadata": {},
     "output_type": "execute_result"
    }
   ],
   "source": [
    "g_shuffle = assign(n_prisoners)\n",
    "g_shuffle"
   ]
  },
  {
   "cell_type": "code",
   "execution_count": 4,
   "id": "1a4af6fa-e20b-420b-9054-817b342fe256",
   "metadata": {},
   "outputs": [
    {
     "data": {
      "text/plain": [
       "6"
      ]
     },
     "execution_count": 4,
     "metadata": {},
     "output_type": "execute_result"
    }
   ],
   "source": [
    "assign(n_prisoners)[0].shape[0]"
   ]
  },
  {
   "cell_type": "code",
   "execution_count": 5,
   "id": "5f537be0-dfae-4760-9bb7-311758eaecfa",
   "metadata": {},
   "outputs": [],
   "source": [
    "def check(shuffle_array):\n",
    "    #success = 0 \n",
    "    #fail = 0\n",
    "    #n_exp = 0\n",
    "    checks = 0\n",
    "    l = math.ceil(n_prisoners/2)\n",
    "    check_array = []\n",
    "    #print(\"l = \", l)\n",
    "    #for j in g_shuffle[0]:\n",
    "       \n",
    "    for i in range(0,assign(n_prisoners)[0].shape[0]):\n",
    "        for checks in range(0,l):\n",
    "        #while checks < l:\n",
    "\n",
    "            #print(\"i before = \", i)\n",
    "            #print(\"checks=\", checks)\n",
    "\n",
    "            g1 =  g_shuffle[1][i]\n",
    "            #print(\"g[1] =\", g1)\n",
    "            g, = np.where(g_shuffle[0] == g_shuffle[1][i])\n",
    "            check_array.append(g1)\n",
    "            i = g[0]\n",
    "\n",
    "                #checks+=1\n",
    "                \n",
    "              \n",
    "        \n",
    "            \n",
    "        \n",
    "        #print(\"check array = \", check_array)\n",
    "        \n",
    "    print(\"g_shuffle = \", g_shuffle)\n",
    "        \n",
    "    return check_array"
   ]
  },
  {
   "cell_type": "code",
   "execution_count": 6,
   "id": "a4ba5448-079f-4958-91be-259ea1ea5e3d",
   "metadata": {},
   "outputs": [
    {
     "name": "stdout",
     "output_type": "stream",
     "text": [
      "g_shuffle =  [[1 2 3 4 5 6]\n",
      " [4 1 3 6 5 2]]\n"
     ]
    }
   ],
   "source": [
    "ca = check(g_shuffle)"
   ]
  },
  {
   "cell_type": "code",
   "execution_count": 7,
   "id": "3d4f12ba-fdf4-46ff-a931-14f7c02fbea5",
   "metadata": {},
   "outputs": [
    {
     "data": {
      "text/plain": [
       "array([4, 6, 2, 1, 4, 6, 3, 3, 3, 6, 2, 1, 5, 5, 5, 2, 1, 4])"
      ]
     },
     "execution_count": 7,
     "metadata": {},
     "output_type": "execute_result"
    }
   ],
   "source": [
    "np.asarray(ca)"
   ]
  },
  {
   "cell_type": "code",
   "execution_count": 8,
   "id": "63c7659f-cc24-4d71-be2f-153abde642dd",
   "metadata": {},
   "outputs": [
    {
     "data": {
      "text/plain": [
       "[array([4, 6, 2]),\n",
       " array([1, 4, 6]),\n",
       " array([3, 3, 3]),\n",
       " array([6, 2, 1]),\n",
       " array([5, 5, 5]),\n",
       " array([2, 1, 4])]"
      ]
     },
     "execution_count": 8,
     "metadata": {},
     "output_type": "execute_result"
    }
   ],
   "source": [
    "split_ca = np.array_split(ca,n_prisoners)\n",
    "split_ca"
   ]
  },
  {
   "cell_type": "code",
   "execution_count": 9,
   "id": "ce703a2c-772c-4af2-8487-3456e2f5007e",
   "metadata": {},
   "outputs": [
    {
     "name": "stdout",
     "output_type": "stream",
     "text": [
      "g =  1\n",
      "[4 6 2]\n",
      "g =  2\n",
      "[1 4 6]\n",
      "g =  3\n",
      "[3 3 3]\n",
      "g =  4\n",
      "[6 2 1]\n",
      "g =  5\n",
      "[5 5 5]\n",
      "g =  6\n",
      "[2 1 4]\n",
      "2\n"
     ]
    }
   ],
   "source": [
    "success=0\n",
    "for i in range(0,n_prisoners):\n",
    "    print(\"g = \", g_shuffle[0][i])\n",
    "    print(split_ca[i])\n",
    "    for j in split_ca[i]:\n",
    "        if g_shuffle[0][i] == j:\n",
    "            success += 1\n",
    "            break\n",
    "if success == n_prisoners:\n",
    "    print"
   ]
  },
  {
   "cell_type": "code",
   "execution_count": null,
   "id": "30c2b431-9082-45c1-9c9a-eaafaae88863",
   "metadata": {},
   "outputs": [],
   "source": []
  },
  {
   "cell_type": "code",
   "execution_count": null,
   "id": "a43d439e-57b2-45e9-aa32-53cf6fd35d25",
   "metadata": {},
   "outputs": [],
   "source": []
  },
  {
   "cell_type": "code",
   "execution_count": null,
   "id": "f2d0770b-d760-4bfe-86be-982e84c61b26",
   "metadata": {},
   "outputs": [],
   "source": []
  },
  {
   "cell_type": "code",
   "execution_count": null,
   "id": "abd4a14d-482c-49b1-b3f3-e264288b408a",
   "metadata": {},
   "outputs": [],
   "source": []
  },
  {
   "cell_type": "code",
   "execution_count": 11,
   "id": "4bdb04d2-1f48-47e7-9f34-f0bea43311ca",
   "metadata": {},
   "outputs": [],
   "source": [
    "def condition(g_shuffle):\n",
    "    for j in g_shuffle[0]:\n",
    "        ch = check(g_shuffle)\n",
    "        i=j\n",
    "        print(ch)\n",
    "        print(g_shuffle[0][j])"
   ]
  },
  {
   "cell_type": "code",
   "execution_count": null,
   "id": "d567e63b-06d9-4111-9615-24a4a726f540",
   "metadata": {},
   "outputs": [],
   "source": []
  },
  {
   "cell_type": "code",
   "execution_count": null,
   "id": "bc47c506-ee9c-4d87-a8d1-2472c2db116d",
   "metadata": {},
   "outputs": [],
   "source": []
  },
  {
   "cell_type": "code",
   "execution_count": null,
   "id": "ef146dcb-7d40-416d-9cde-d47a761b3da1",
   "metadata": {},
   "outputs": [],
   "source": []
  }
 ],
 "metadata": {
  "kernelspec": {
   "display_name": "Python 3 (ipykernel)",
   "language": "python",
   "name": "python3"
  },
  "language_info": {
   "codemirror_mode": {
    "name": "ipython",
    "version": 3
   },
   "file_extension": ".py",
   "mimetype": "text/x-python",
   "name": "python",
   "nbconvert_exporter": "python",
   "pygments_lexer": "ipython3",
   "version": "3.9.5"
  }
 },
 "nbformat": 4,
 "nbformat_minor": 5
}
