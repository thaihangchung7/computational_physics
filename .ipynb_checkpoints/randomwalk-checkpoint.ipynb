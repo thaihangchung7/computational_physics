{
 "cells": [
  {
   "cell_type": "code",
   "execution_count": 6,
   "id": "fb938f7f-ab0b-40dd-9b59-f4dbcc79a911",
   "metadata": {},
   "outputs": [],
   "source": [
    "import random\n",
    "import matplotlib.pyplot as plt"
   ]
  },
  {
   "cell_type": "code",
   "execution_count": 12,
   "id": "dc8a331c-546e-458b-ba35-38d912d4e6aa",
   "metadata": {},
   "outputs": [
    {
     "name": "stdout",
     "output_type": "stream",
     "text": [
      "90\n"
     ]
    },
    {
     "ename": "TypeError",
     "evalue": "unsupported operand type(s) for /: 'list' and 'int'",
     "output_type": "error",
     "traceback": [
      "\u001b[0;31m---------------------------------------------------------------------------\u001b[0m",
      "\u001b[0;31mTypeError\u001b[0m                                 Traceback (most recent call last)",
      "Input \u001b[0;32mIn [12]\u001b[0m, in \u001b[0;36m<cell line: 21>\u001b[0;34m()\u001b[0m\n\u001b[1;32m     18\u001b[0m         s \u001b[38;5;241m=\u001b[39m s \u001b[38;5;241m+\u001b[39m distance\u001b[38;5;241m*\u001b[39m\u001b[38;5;241m*\u001b[39m\u001b[38;5;241m2\u001b[39m\n\u001b[1;32m     20\u001b[0m \u001b[38;5;28mprint\u001b[39m(steps)\n\u001b[0;32m---> 21\u001b[0m \u001b[38;5;28mprint\u001b[39m(\u001b[43msarray\u001b[49m\u001b[38;5;241;43m/\u001b[39;49m\u001b[43msample\u001b[49m)\n\u001b[1;32m     23\u001b[0m plt\u001b[38;5;241m.\u001b[39mplot(steps,s\u001b[38;5;241m/\u001b[39msample)\n",
      "\u001b[0;31mTypeError\u001b[0m: unsupported operand type(s) for /: 'list' and 'int'"
     ]
    }
   ],
   "source": [
    "sample = 5000\n",
    "sarray = []\n",
    "stepping=[]\n",
    "for steps in range(10,100,10):\n",
    "    s=0\n",
    "    \n",
    "    for t in range(0,sample):\n",
    "        distance = 0\n",
    "        for x in range(0,steps):\n",
    "            s_1 = random.random()\n",
    "            \n",
    "            if s_1 > 0.5:\n",
    "                distance = distance+1\n",
    "            else:\n",
    "                distance = distance-1\n",
    "            sarray.append(s)\n",
    "            stepping.append(steps)\n",
    "        s = s + distance**2\n",
    "        \n",
    "print(steps)\n",
    "print(sarray/sample)\n",
    "\n",
    "plt.plot(steps,s/sample)"
   ]
  },
  {
   "cell_type": "code",
   "execution_count": null,
   "id": "5bd3f4e4-ae16-44a5-a979-ec8ab27fe9d6",
   "metadata": {},
   "outputs": [],
   "source": []
  },
  {
   "cell_type": "code",
   "execution_count": null,
   "id": "fdb329cb-8dca-4475-8c0c-196cc85d5f82",
   "metadata": {},
   "outputs": [],
   "source": []
  },
  {
   "cell_type": "code",
   "execution_count": null,
   "id": "cb7adec9-92ef-4746-82b3-0fe1f1db3df3",
   "metadata": {},
   "outputs": [],
   "source": []
  }
 ],
 "metadata": {
  "kernelspec": {
   "display_name": "Python 3 (ipykernel)",
   "language": "python",
   "name": "python3"
  },
  "language_info": {
   "codemirror_mode": {
    "name": "ipython",
    "version": 3
   },
   "file_extension": ".py",
   "mimetype": "text/x-python",
   "name": "python",
   "nbconvert_exporter": "python",
   "pygments_lexer": "ipython3",
   "version": "3.9.5"
  }
 },
 "nbformat": 4,
 "nbformat_minor": 5
}
